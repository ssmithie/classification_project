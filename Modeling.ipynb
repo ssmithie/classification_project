{
 "cells": [
  {
   "cell_type": "markdown",
   "metadata": {},
   "source": [
    "# Lets do some modeling!"
   ]
  },
  {
   "cell_type": "code",
   "execution_count": 77,
   "metadata": {},
   "outputs": [],
   "source": [
    "import pandas as pd\n",
    "import numpy as np\n",
    "import matplotlib.pyplot as plt\n",
    "import seaborn as sns\n",
    "%matplotlib inline\n",
    "from sklearn.model_selection import train_test_split\n",
    "import itertools\n",
    "from sklearn.svm import LinearSVC\n",
    "from sklearn.datasets import make_classification\n",
    "from sklearn.neighbors import KNeighborsClassifier\n",
    "from sklearn.preprocessing import StandardScaler"
   ]
  },
  {
   "cell_type": "code",
   "execution_count": 24,
   "metadata": {},
   "outputs": [],
   "source": [
    "df = pd.read_csv('most_cleaned_data.csv', index_col=0)"
   ]
  },
  {
   "cell_type": "code",
   "execution_count": 8,
   "metadata": {
    "collapsed": true
   },
   "outputs": [
    {
     "data": {
      "text/plain": [
       "Index(['BOROUGH', 'NEIGHBORHOOD', 'BUILDING_CLASS_CATEGORY',\n",
       "       'TAX_CLASS_AT_PRESENT', 'BLOCK', 'LOT', 'BUILDING_CLASS_AT_PRESENT',\n",
       "       'ADDRESS', 'APARTMENT_NUMBER', 'ZIP_CODE', 'RESIDENTIAL_UNITS',\n",
       "       'COMMERCIAL_UNITS', 'TOTAL_UNITS', 'LAND_SQUARE_FEET',\n",
       "       'GROSS_SQUARE_FEET', 'YEAR_BUILT', 'TAX_CLASS_AT_TIME_OF_SALE',\n",
       "       'BUILDING_CLASS_AT_TIME_OF_SALE', 'SALE_PRICE', 'SALE_DATE',\n",
       "       'SALE_SEASON', 'zip_mean', 'above_mean', 'year'],\n",
       "      dtype='object')"
      ]
     },
     "execution_count": 8,
     "metadata": {},
     "output_type": "execute_result"
    }
   ],
   "source": [
    "df.columns"
   ]
  },
  {
   "cell_type": "code",
   "execution_count": 25,
   "metadata": {
    "scrolled": true
   },
   "outputs": [],
   "source": [
    "df.drop(['BOROUGH','NEIGHBORHOOD','BUILDING_CLASS_CATEGORY',\n",
    "       'TAX_CLASS_AT_PRESENT', 'BLOCK', 'LOT', 'BUILDING_CLASS_AT_PRESENT',\n",
    "       'ADDRESS', 'RESIDENTIAL_UNITS',\n",
    "       'COMMERCIAL_UNITS', 'TOTAL_UNITS', 'YEAR_BUILT', \n",
    "       'BUILDING_CLASS_AT_TIME_OF_SALE', 'SALE_PRICE', 'SALE_DATE',\n",
    "       'zip_mean'], axis=1, inplace=True)"
   ]
  },
  {
   "cell_type": "code",
   "execution_count": 26,
   "metadata": {},
   "outputs": [
    {
     "name": "stdout",
     "output_type": "stream",
     "text": [
      "Target Variable\n",
      "above_mean\n",
      "0    11163\n",
      "1     4267\n",
      "Name: above_mean, dtype: int64\n"
     ]
    }
   ],
   "source": [
    "print('Target Variable')\n",
    "print(df.groupby(['above_mean']).above_mean.count())"
   ]
  },
  {
   "cell_type": "code",
   "execution_count": 27,
   "metadata": {},
   "outputs": [],
   "source": [
    "df = pd.get_dummies(df, columns=['SALE_SEASON','ZIP_CODE', 'APARTMENT_NUMBER', 'TAX_CLASS_AT_TIME_OF_SALE', 'year'], drop_first=True)"
   ]
  },
  {
   "cell_type": "code",
   "execution_count": 29,
   "metadata": {
    "collapsed": true
   },
   "outputs": [
    {
     "data": {
      "text/html": [
       "<div>\n",
       "<style scoped>\n",
       "    .dataframe tbody tr th:only-of-type {\n",
       "        vertical-align: middle;\n",
       "    }\n",
       "\n",
       "    .dataframe tbody tr th {\n",
       "        vertical-align: top;\n",
       "    }\n",
       "\n",
       "    .dataframe thead th {\n",
       "        text-align: right;\n",
       "    }\n",
       "</style>\n",
       "<table border=\"1\" class=\"dataframe\">\n",
       "  <thead>\n",
       "    <tr style=\"text-align: right;\">\n",
       "      <th></th>\n",
       "      <th>LAND_SQUARE_FEET</th>\n",
       "      <th>GROSS_SQUARE_FEET</th>\n",
       "      <th>above_mean</th>\n",
       "      <th>SALE_SEASON_2</th>\n",
       "      <th>SALE_SEASON_3</th>\n",
       "      <th>SALE_SEASON_4</th>\n",
       "      <th>ZIP_CODE_11203</th>\n",
       "      <th>ZIP_CODE_11204</th>\n",
       "      <th>ZIP_CODE_11205</th>\n",
       "      <th>ZIP_CODE_11206</th>\n",
       "      <th>...</th>\n",
       "      <th>APARTMENT_NUMBER_3</th>\n",
       "      <th>TAX_CLASS_AT_TIME_OF_SALE_2</th>\n",
       "      <th>TAX_CLASS_AT_TIME_OF_SALE_3</th>\n",
       "      <th>TAX_CLASS_AT_TIME_OF_SALE_4</th>\n",
       "      <th>year_(1901.0, 1920.0]</th>\n",
       "      <th>year_(1921.0, 1940.0]</th>\n",
       "      <th>year_(1941.0, 1960.0]</th>\n",
       "      <th>year_(1961.0, 1980.0]</th>\n",
       "      <th>year_(1981.0, 2000.0]</th>\n",
       "      <th>year_(2001.0, 2016.0]</th>\n",
       "    </tr>\n",
       "  </thead>\n",
       "  <tbody>\n",
       "    <tr>\n",
       "      <th>16540</th>\n",
       "      <td>0</td>\n",
       "      <td>0</td>\n",
       "      <td>0</td>\n",
       "      <td>0</td>\n",
       "      <td>1</td>\n",
       "      <td>0</td>\n",
       "      <td>0</td>\n",
       "      <td>0</td>\n",
       "      <td>0</td>\n",
       "      <td>0</td>\n",
       "      <td>...</td>\n",
       "      <td>0</td>\n",
       "      <td>1</td>\n",
       "      <td>0</td>\n",
       "      <td>0</td>\n",
       "      <td>0</td>\n",
       "      <td>0</td>\n",
       "      <td>0</td>\n",
       "      <td>0</td>\n",
       "      <td>0</td>\n",
       "      <td>0</td>\n",
       "    </tr>\n",
       "    <tr>\n",
       "      <th>8656</th>\n",
       "      <td>0</td>\n",
       "      <td>0</td>\n",
       "      <td>0</td>\n",
       "      <td>0</td>\n",
       "      <td>0</td>\n",
       "      <td>0</td>\n",
       "      <td>0</td>\n",
       "      <td>0</td>\n",
       "      <td>0</td>\n",
       "      <td>0</td>\n",
       "      <td>...</td>\n",
       "      <td>0</td>\n",
       "      <td>0</td>\n",
       "      <td>0</td>\n",
       "      <td>0</td>\n",
       "      <td>0</td>\n",
       "      <td>0</td>\n",
       "      <td>0</td>\n",
       "      <td>0</td>\n",
       "      <td>0</td>\n",
       "      <td>1</td>\n",
       "    </tr>\n",
       "    <tr>\n",
       "      <th>11803</th>\n",
       "      <td>2333</td>\n",
       "      <td>1748</td>\n",
       "      <td>1</td>\n",
       "      <td>1</td>\n",
       "      <td>0</td>\n",
       "      <td>0</td>\n",
       "      <td>0</td>\n",
       "      <td>0</td>\n",
       "      <td>0</td>\n",
       "      <td>0</td>\n",
       "      <td>...</td>\n",
       "      <td>0</td>\n",
       "      <td>0</td>\n",
       "      <td>0</td>\n",
       "      <td>0</td>\n",
       "      <td>0</td>\n",
       "      <td>1</td>\n",
       "      <td>0</td>\n",
       "      <td>0</td>\n",
       "      <td>0</td>\n",
       "      <td>0</td>\n",
       "    </tr>\n",
       "    <tr>\n",
       "      <th>1967</th>\n",
       "      <td>1764</td>\n",
       "      <td>3260</td>\n",
       "      <td>1</td>\n",
       "      <td>0</td>\n",
       "      <td>0</td>\n",
       "      <td>1</td>\n",
       "      <td>0</td>\n",
       "      <td>0</td>\n",
       "      <td>0</td>\n",
       "      <td>0</td>\n",
       "      <td>...</td>\n",
       "      <td>0</td>\n",
       "      <td>0</td>\n",
       "      <td>0</td>\n",
       "      <td>0</td>\n",
       "      <td>0</td>\n",
       "      <td>0</td>\n",
       "      <td>0</td>\n",
       "      <td>0</td>\n",
       "      <td>0</td>\n",
       "      <td>0</td>\n",
       "    </tr>\n",
       "    <tr>\n",
       "      <th>17208</th>\n",
       "      <td>0</td>\n",
       "      <td>0</td>\n",
       "      <td>0</td>\n",
       "      <td>0</td>\n",
       "      <td>1</td>\n",
       "      <td>0</td>\n",
       "      <td>0</td>\n",
       "      <td>0</td>\n",
       "      <td>0</td>\n",
       "      <td>0</td>\n",
       "      <td>...</td>\n",
       "      <td>0</td>\n",
       "      <td>1</td>\n",
       "      <td>0</td>\n",
       "      <td>0</td>\n",
       "      <td>0</td>\n",
       "      <td>0</td>\n",
       "      <td>0</td>\n",
       "      <td>1</td>\n",
       "      <td>0</td>\n",
       "      <td>0</td>\n",
       "    </tr>\n",
       "    <tr>\n",
       "      <th>289</th>\n",
       "      <td>6452</td>\n",
       "      <td>1836</td>\n",
       "      <td>1</td>\n",
       "      <td>0</td>\n",
       "      <td>0</td>\n",
       "      <td>0</td>\n",
       "      <td>0</td>\n",
       "      <td>0</td>\n",
       "      <td>0</td>\n",
       "      <td>0</td>\n",
       "      <td>...</td>\n",
       "      <td>0</td>\n",
       "      <td>1</td>\n",
       "      <td>0</td>\n",
       "      <td>0</td>\n",
       "      <td>0</td>\n",
       "      <td>1</td>\n",
       "      <td>0</td>\n",
       "      <td>0</td>\n",
       "      <td>0</td>\n",
       "      <td>0</td>\n",
       "    </tr>\n",
       "    <tr>\n",
       "      <th>10167</th>\n",
       "      <td>0</td>\n",
       "      <td>0</td>\n",
       "      <td>0</td>\n",
       "      <td>1</td>\n",
       "      <td>0</td>\n",
       "      <td>0</td>\n",
       "      <td>0</td>\n",
       "      <td>0</td>\n",
       "      <td>0</td>\n",
       "      <td>0</td>\n",
       "      <td>...</td>\n",
       "      <td>0</td>\n",
       "      <td>0</td>\n",
       "      <td>0</td>\n",
       "      <td>0</td>\n",
       "      <td>0</td>\n",
       "      <td>0</td>\n",
       "      <td>0</td>\n",
       "      <td>0</td>\n",
       "      <td>0</td>\n",
       "      <td>1</td>\n",
       "    </tr>\n",
       "    <tr>\n",
       "      <th>19927</th>\n",
       "      <td>6000</td>\n",
       "      <td>2951</td>\n",
       "      <td>1</td>\n",
       "      <td>0</td>\n",
       "      <td>1</td>\n",
       "      <td>0</td>\n",
       "      <td>0</td>\n",
       "      <td>0</td>\n",
       "      <td>0</td>\n",
       "      <td>0</td>\n",
       "      <td>...</td>\n",
       "      <td>0</td>\n",
       "      <td>0</td>\n",
       "      <td>0</td>\n",
       "      <td>0</td>\n",
       "      <td>0</td>\n",
       "      <td>1</td>\n",
       "      <td>0</td>\n",
       "      <td>0</td>\n",
       "      <td>0</td>\n",
       "      <td>0</td>\n",
       "    </tr>\n",
       "    <tr>\n",
       "      <th>3311</th>\n",
       "      <td>3500</td>\n",
       "      <td>2144</td>\n",
       "      <td>1</td>\n",
       "      <td>0</td>\n",
       "      <td>1</td>\n",
       "      <td>0</td>\n",
       "      <td>0</td>\n",
       "      <td>0</td>\n",
       "      <td>0</td>\n",
       "      <td>0</td>\n",
       "      <td>...</td>\n",
       "      <td>0</td>\n",
       "      <td>0</td>\n",
       "      <td>0</td>\n",
       "      <td>0</td>\n",
       "      <td>0</td>\n",
       "      <td>1</td>\n",
       "      <td>0</td>\n",
       "      <td>0</td>\n",
       "      <td>0</td>\n",
       "      <td>0</td>\n",
       "    </tr>\n",
       "    <tr>\n",
       "      <th>8304</th>\n",
       "      <td>1153</td>\n",
       "      <td>504</td>\n",
       "      <td>0</td>\n",
       "      <td>0</td>\n",
       "      <td>0</td>\n",
       "      <td>0</td>\n",
       "      <td>0</td>\n",
       "      <td>0</td>\n",
       "      <td>0</td>\n",
       "      <td>0</td>\n",
       "      <td>...</td>\n",
       "      <td>0</td>\n",
       "      <td>0</td>\n",
       "      <td>0</td>\n",
       "      <td>1</td>\n",
       "      <td>0</td>\n",
       "      <td>1</td>\n",
       "      <td>0</td>\n",
       "      <td>0</td>\n",
       "      <td>0</td>\n",
       "      <td>0</td>\n",
       "    </tr>\n",
       "    <tr>\n",
       "      <th>8513</th>\n",
       "      <td>0</td>\n",
       "      <td>0</td>\n",
       "      <td>0</td>\n",
       "      <td>0</td>\n",
       "      <td>0</td>\n",
       "      <td>0</td>\n",
       "      <td>0</td>\n",
       "      <td>0</td>\n",
       "      <td>0</td>\n",
       "      <td>0</td>\n",
       "      <td>...</td>\n",
       "      <td>0</td>\n",
       "      <td>1</td>\n",
       "      <td>0</td>\n",
       "      <td>0</td>\n",
       "      <td>0</td>\n",
       "      <td>0</td>\n",
       "      <td>0</td>\n",
       "      <td>0</td>\n",
       "      <td>0</td>\n",
       "      <td>0</td>\n",
       "    </tr>\n",
       "    <tr>\n",
       "      <th>13500</th>\n",
       "      <td>0</td>\n",
       "      <td>0</td>\n",
       "      <td>0</td>\n",
       "      <td>1</td>\n",
       "      <td>0</td>\n",
       "      <td>0</td>\n",
       "      <td>0</td>\n",
       "      <td>0</td>\n",
       "      <td>0</td>\n",
       "      <td>0</td>\n",
       "      <td>...</td>\n",
       "      <td>0</td>\n",
       "      <td>1</td>\n",
       "      <td>0</td>\n",
       "      <td>0</td>\n",
       "      <td>1</td>\n",
       "      <td>0</td>\n",
       "      <td>0</td>\n",
       "      <td>0</td>\n",
       "      <td>0</td>\n",
       "      <td>0</td>\n",
       "    </tr>\n",
       "    <tr>\n",
       "      <th>23387</th>\n",
       "      <td>10017</td>\n",
       "      <td>23901</td>\n",
       "      <td>1</td>\n",
       "      <td>0</td>\n",
       "      <td>0</td>\n",
       "      <td>0</td>\n",
       "      <td>0</td>\n",
       "      <td>0</td>\n",
       "      <td>0</td>\n",
       "      <td>0</td>\n",
       "      <td>...</td>\n",
       "      <td>0</td>\n",
       "      <td>0</td>\n",
       "      <td>0</td>\n",
       "      <td>1</td>\n",
       "      <td>0</td>\n",
       "      <td>1</td>\n",
       "      <td>0</td>\n",
       "      <td>0</td>\n",
       "      <td>0</td>\n",
       "      <td>0</td>\n",
       "    </tr>\n",
       "    <tr>\n",
       "      <th>12692</th>\n",
       "      <td>2633</td>\n",
       "      <td>1944</td>\n",
       "      <td>0</td>\n",
       "      <td>0</td>\n",
       "      <td>0</td>\n",
       "      <td>1</td>\n",
       "      <td>0</td>\n",
       "      <td>0</td>\n",
       "      <td>0</td>\n",
       "      <td>0</td>\n",
       "      <td>...</td>\n",
       "      <td>0</td>\n",
       "      <td>0</td>\n",
       "      <td>0</td>\n",
       "      <td>0</td>\n",
       "      <td>0</td>\n",
       "      <td>0</td>\n",
       "      <td>1</td>\n",
       "      <td>0</td>\n",
       "      <td>0</td>\n",
       "      <td>0</td>\n",
       "    </tr>\n",
       "    <tr>\n",
       "      <th>22664</th>\n",
       "      <td>0</td>\n",
       "      <td>0</td>\n",
       "      <td>0</td>\n",
       "      <td>1</td>\n",
       "      <td>0</td>\n",
       "      <td>0</td>\n",
       "      <td>0</td>\n",
       "      <td>0</td>\n",
       "      <td>0</td>\n",
       "      <td>0</td>\n",
       "      <td>...</td>\n",
       "      <td>0</td>\n",
       "      <td>1</td>\n",
       "      <td>0</td>\n",
       "      <td>0</td>\n",
       "      <td>0</td>\n",
       "      <td>0</td>\n",
       "      <td>0</td>\n",
       "      <td>0</td>\n",
       "      <td>0</td>\n",
       "      <td>1</td>\n",
       "    </tr>\n",
       "    <tr>\n",
       "      <th>8535</th>\n",
       "      <td>2500</td>\n",
       "      <td>5760</td>\n",
       "      <td>1</td>\n",
       "      <td>1</td>\n",
       "      <td>0</td>\n",
       "      <td>0</td>\n",
       "      <td>0</td>\n",
       "      <td>0</td>\n",
       "      <td>0</td>\n",
       "      <td>0</td>\n",
       "      <td>...</td>\n",
       "      <td>0</td>\n",
       "      <td>1</td>\n",
       "      <td>0</td>\n",
       "      <td>0</td>\n",
       "      <td>1</td>\n",
       "      <td>0</td>\n",
       "      <td>0</td>\n",
       "      <td>0</td>\n",
       "      <td>0</td>\n",
       "      <td>0</td>\n",
       "    </tr>\n",
       "    <tr>\n",
       "      <th>2076</th>\n",
       "      <td>1400</td>\n",
       "      <td>2385</td>\n",
       "      <td>1</td>\n",
       "      <td>1</td>\n",
       "      <td>0</td>\n",
       "      <td>0</td>\n",
       "      <td>0</td>\n",
       "      <td>0</td>\n",
       "      <td>0</td>\n",
       "      <td>0</td>\n",
       "      <td>...</td>\n",
       "      <td>0</td>\n",
       "      <td>0</td>\n",
       "      <td>0</td>\n",
       "      <td>0</td>\n",
       "      <td>0</td>\n",
       "      <td>0</td>\n",
       "      <td>0</td>\n",
       "      <td>0</td>\n",
       "      <td>0</td>\n",
       "      <td>0</td>\n",
       "    </tr>\n",
       "    <tr>\n",
       "      <th>21749</th>\n",
       "      <td>0</td>\n",
       "      <td>0</td>\n",
       "      <td>0</td>\n",
       "      <td>0</td>\n",
       "      <td>1</td>\n",
       "      <td>0</td>\n",
       "      <td>0</td>\n",
       "      <td>0</td>\n",
       "      <td>0</td>\n",
       "      <td>0</td>\n",
       "      <td>...</td>\n",
       "      <td>0</td>\n",
       "      <td>1</td>\n",
       "      <td>0</td>\n",
       "      <td>0</td>\n",
       "      <td>0</td>\n",
       "      <td>0</td>\n",
       "      <td>0</td>\n",
       "      <td>0</td>\n",
       "      <td>0</td>\n",
       "      <td>1</td>\n",
       "    </tr>\n",
       "    <tr>\n",
       "      <th>17524</th>\n",
       "      <td>0</td>\n",
       "      <td>0</td>\n",
       "      <td>0</td>\n",
       "      <td>0</td>\n",
       "      <td>0</td>\n",
       "      <td>0</td>\n",
       "      <td>0</td>\n",
       "      <td>0</td>\n",
       "      <td>0</td>\n",
       "      <td>0</td>\n",
       "      <td>...</td>\n",
       "      <td>0</td>\n",
       "      <td>1</td>\n",
       "      <td>0</td>\n",
       "      <td>0</td>\n",
       "      <td>0</td>\n",
       "      <td>0</td>\n",
       "      <td>0</td>\n",
       "      <td>1</td>\n",
       "      <td>0</td>\n",
       "      <td>0</td>\n",
       "    </tr>\n",
       "    <tr>\n",
       "      <th>21492</th>\n",
       "      <td>0</td>\n",
       "      <td>0</td>\n",
       "      <td>0</td>\n",
       "      <td>0</td>\n",
       "      <td>0</td>\n",
       "      <td>0</td>\n",
       "      <td>0</td>\n",
       "      <td>0</td>\n",
       "      <td>0</td>\n",
       "      <td>0</td>\n",
       "      <td>...</td>\n",
       "      <td>0</td>\n",
       "      <td>1</td>\n",
       "      <td>0</td>\n",
       "      <td>0</td>\n",
       "      <td>0</td>\n",
       "      <td>0</td>\n",
       "      <td>0</td>\n",
       "      <td>0</td>\n",
       "      <td>0</td>\n",
       "      <td>0</td>\n",
       "    </tr>\n",
       "  </tbody>\n",
       "</table>\n",
       "<p>20 rows × 55 columns</p>\n",
       "</div>"
      ],
      "text/plain": [
       "       LAND_SQUARE_FEET  GROSS_SQUARE_FEET  above_mean  SALE_SEASON_2  \\\n",
       "16540                 0                  0           0              0   \n",
       "8656                  0                  0           0              0   \n",
       "11803              2333               1748           1              1   \n",
       "1967               1764               3260           1              0   \n",
       "17208                 0                  0           0              0   \n",
       "289                6452               1836           1              0   \n",
       "10167                 0                  0           0              1   \n",
       "19927              6000               2951           1              0   \n",
       "3311               3500               2144           1              0   \n",
       "8304               1153                504           0              0   \n",
       "8513                  0                  0           0              0   \n",
       "13500                 0                  0           0              1   \n",
       "23387             10017              23901           1              0   \n",
       "12692              2633               1944           0              0   \n",
       "22664                 0                  0           0              1   \n",
       "8535               2500               5760           1              1   \n",
       "2076               1400               2385           1              1   \n",
       "21749                 0                  0           0              0   \n",
       "17524                 0                  0           0              0   \n",
       "21492                 0                  0           0              0   \n",
       "\n",
       "       SALE_SEASON_3  SALE_SEASON_4  ZIP_CODE_11203  ZIP_CODE_11204  \\\n",
       "16540              1              0               0               0   \n",
       "8656               0              0               0               0   \n",
       "11803              0              0               0               0   \n",
       "1967               0              1               0               0   \n",
       "17208              1              0               0               0   \n",
       "289                0              0               0               0   \n",
       "10167              0              0               0               0   \n",
       "19927              1              0               0               0   \n",
       "3311               1              0               0               0   \n",
       "8304               0              0               0               0   \n",
       "8513               0              0               0               0   \n",
       "13500              0              0               0               0   \n",
       "23387              0              0               0               0   \n",
       "12692              0              1               0               0   \n",
       "22664              0              0               0               0   \n",
       "8535               0              0               0               0   \n",
       "2076               0              0               0               0   \n",
       "21749              1              0               0               0   \n",
       "17524              0              0               0               0   \n",
       "21492              0              0               0               0   \n",
       "\n",
       "       ZIP_CODE_11205  ZIP_CODE_11206  ...  APARTMENT_NUMBER_3  \\\n",
       "16540               0               0  ...                   0   \n",
       "8656                0               0  ...                   0   \n",
       "11803               0               0  ...                   0   \n",
       "1967                0               0  ...                   0   \n",
       "17208               0               0  ...                   0   \n",
       "289                 0               0  ...                   0   \n",
       "10167               0               0  ...                   0   \n",
       "19927               0               0  ...                   0   \n",
       "3311                0               0  ...                   0   \n",
       "8304                0               0  ...                   0   \n",
       "8513                0               0  ...                   0   \n",
       "13500               0               0  ...                   0   \n",
       "23387               0               0  ...                   0   \n",
       "12692               0               0  ...                   0   \n",
       "22664               0               0  ...                   0   \n",
       "8535                0               0  ...                   0   \n",
       "2076                0               0  ...                   0   \n",
       "21749               0               0  ...                   0   \n",
       "17524               0               0  ...                   0   \n",
       "21492               0               0  ...                   0   \n",
       "\n",
       "       TAX_CLASS_AT_TIME_OF_SALE_2  TAX_CLASS_AT_TIME_OF_SALE_3  \\\n",
       "16540                            1                            0   \n",
       "8656                             0                            0   \n",
       "11803                            0                            0   \n",
       "1967                             0                            0   \n",
       "17208                            1                            0   \n",
       "289                              1                            0   \n",
       "10167                            0                            0   \n",
       "19927                            0                            0   \n",
       "3311                             0                            0   \n",
       "8304                             0                            0   \n",
       "8513                             1                            0   \n",
       "13500                            1                            0   \n",
       "23387                            0                            0   \n",
       "12692                            0                            0   \n",
       "22664                            1                            0   \n",
       "8535                             1                            0   \n",
       "2076                             0                            0   \n",
       "21749                            1                            0   \n",
       "17524                            1                            0   \n",
       "21492                            1                            0   \n",
       "\n",
       "       TAX_CLASS_AT_TIME_OF_SALE_4  year_(1901.0, 1920.0]  \\\n",
       "16540                            0                      0   \n",
       "8656                             0                      0   \n",
       "11803                            0                      0   \n",
       "1967                             0                      0   \n",
       "17208                            0                      0   \n",
       "289                              0                      0   \n",
       "10167                            0                      0   \n",
       "19927                            0                      0   \n",
       "3311                             0                      0   \n",
       "8304                             1                      0   \n",
       "8513                             0                      0   \n",
       "13500                            0                      1   \n",
       "23387                            1                      0   \n",
       "12692                            0                      0   \n",
       "22664                            0                      0   \n",
       "8535                             0                      1   \n",
       "2076                             0                      0   \n",
       "21749                            0                      0   \n",
       "17524                            0                      0   \n",
       "21492                            0                      0   \n",
       "\n",
       "       year_(1921.0, 1940.0]  year_(1941.0, 1960.0]  year_(1961.0, 1980.0]  \\\n",
       "16540                      0                      0                      0   \n",
       "8656                       0                      0                      0   \n",
       "11803                      1                      0                      0   \n",
       "1967                       0                      0                      0   \n",
       "17208                      0                      0                      1   \n",
       "289                        1                      0                      0   \n",
       "10167                      0                      0                      0   \n",
       "19927                      1                      0                      0   \n",
       "3311                       1                      0                      0   \n",
       "8304                       1                      0                      0   \n",
       "8513                       0                      0                      0   \n",
       "13500                      0                      0                      0   \n",
       "23387                      1                      0                      0   \n",
       "12692                      0                      1                      0   \n",
       "22664                      0                      0                      0   \n",
       "8535                       0                      0                      0   \n",
       "2076                       0                      0                      0   \n",
       "21749                      0                      0                      0   \n",
       "17524                      0                      0                      1   \n",
       "21492                      0                      0                      0   \n",
       "\n",
       "       year_(1981.0, 2000.0]  year_(2001.0, 2016.0]  \n",
       "16540                      0                      0  \n",
       "8656                       0                      1  \n",
       "11803                      0                      0  \n",
       "1967                       0                      0  \n",
       "17208                      0                      0  \n",
       "289                        0                      0  \n",
       "10167                      0                      1  \n",
       "19927                      0                      0  \n",
       "3311                       0                      0  \n",
       "8304                       0                      0  \n",
       "8513                       0                      0  \n",
       "13500                      0                      0  \n",
       "23387                      0                      0  \n",
       "12692                      0                      0  \n",
       "22664                      0                      1  \n",
       "8535                       0                      0  \n",
       "2076                       0                      0  \n",
       "21749                      0                      1  \n",
       "17524                      0                      0  \n",
       "21492                      0                      0  \n",
       "\n",
       "[20 rows x 55 columns]"
      ]
     },
     "execution_count": 29,
     "metadata": {},
     "output_type": "execute_result"
    }
   ],
   "source": [
    "df.sample(20)"
   ]
  },
  {
   "cell_type": "code",
   "execution_count": 5,
   "metadata": {},
   "outputs": [],
   "source": [
    "# categorical:'year', 'SALE_SEASON', 'ZIP_CODE', 'APARTMENT_NUMBER', 'TAX_CLASS_AT_TIME_OF_SALE'\n",
    "# continuous: \n",
    "outcome = ['above_mean']\n",
    "predictors = ['year', 'SALE_SEASON', 'ZIP_CODE', 'APARTMENT_NUMBER', 'LAND_SQUARE_FEET', 'GROSS_SQUARE_FEET','TAX_CLASS_AT_TIME_OF_SALE']"
   ]
  },
  {
   "cell_type": "code",
   "execution_count": 30,
   "metadata": {},
   "outputs": [],
   "source": [
    "# Create matrix of features\n",
    "X = df.drop('above_mean', axis = 1) # grabs everything else but target\n",
    "\n",
    "# Create target variable\n",
    "y = df['above_mean'] # y is the column we're trying to predict\n",
    "\n",
    "# Create a list of the features being used in the \n",
    "feature_cols = X.columns"
   ]
  },
  {
   "cell_type": "code",
   "execution_count": 31,
   "metadata": {},
   "outputs": [
    {
     "data": {
      "text/plain": [
       "Index(['LAND_SQUARE_FEET', 'GROSS_SQUARE_FEET', 'SALE_SEASON_2',\n",
       "       'SALE_SEASON_3', 'SALE_SEASON_4', 'ZIP_CODE_11203', 'ZIP_CODE_11204',\n",
       "       'ZIP_CODE_11205', 'ZIP_CODE_11206', 'ZIP_CODE_11207', 'ZIP_CODE_11208',\n",
       "       'ZIP_CODE_11209', 'ZIP_CODE_11210', 'ZIP_CODE_11211', 'ZIP_CODE_11212',\n",
       "       'ZIP_CODE_11213', 'ZIP_CODE_11214', 'ZIP_CODE_11215', 'ZIP_CODE_11216',\n",
       "       'ZIP_CODE_11217', 'ZIP_CODE_11218', 'ZIP_CODE_11219', 'ZIP_CODE_11220',\n",
       "       'ZIP_CODE_11221', 'ZIP_CODE_11222', 'ZIP_CODE_11223', 'ZIP_CODE_11224',\n",
       "       'ZIP_CODE_11225', 'ZIP_CODE_11226', 'ZIP_CODE_11227', 'ZIP_CODE_11228',\n",
       "       'ZIP_CODE_11229', 'ZIP_CODE_11230', 'ZIP_CODE_11231', 'ZIP_CODE_11232',\n",
       "       'ZIP_CODE_11233', 'ZIP_CODE_11234', 'ZIP_CODE_11235', 'ZIP_CODE_11236',\n",
       "       'ZIP_CODE_11237', 'ZIP_CODE_11238', 'ZIP_CODE_11239', 'ZIP_CODE_11249',\n",
       "       'APARTMENT_NUMBER_1', 'APARTMENT_NUMBER_3',\n",
       "       'TAX_CLASS_AT_TIME_OF_SALE_2', 'TAX_CLASS_AT_TIME_OF_SALE_3',\n",
       "       'TAX_CLASS_AT_TIME_OF_SALE_4', 'year_(1901.0, 1920.0]',\n",
       "       'year_(1921.0, 1940.0]', 'year_(1941.0, 1960.0]',\n",
       "       'year_(1961.0, 1980.0]', 'year_(1981.0, 2000.0]',\n",
       "       'year_(2001.0, 2016.0]'],\n",
       "      dtype='object')"
      ]
     },
     "execution_count": 31,
     "metadata": {},
     "output_type": "execute_result"
    }
   ],
   "source": [
    "feature_cols"
   ]
  },
  {
   "cell_type": "code",
   "execution_count": 32,
   "metadata": {},
   "outputs": [],
   "source": [
    "X_train, X_test, y_train, y_test = train_test_split(X, y, test_size=0.20, random_state=1)"
   ]
  },
  {
   "cell_type": "code",
   "execution_count": 33,
   "metadata": {},
   "outputs": [
    {
     "name": "stderr",
     "output_type": "stream",
     "text": [
      "//anaconda3/lib/python3.7/site-packages/sklearn/linear_model/logistic.py:432: FutureWarning: Default solver will be changed to 'lbfgs' in 0.22. Specify a solver to silence this warning.\n",
      "  FutureWarning)\n"
     ]
    },
    {
     "data": {
      "text/plain": [
       "LogisticRegression(C=1.0, class_weight=None, dual=False, fit_intercept=True,\n",
       "                   intercept_scaling=1, l1_ratio=None, max_iter=100,\n",
       "                   multi_class='warn', n_jobs=None, penalty='l2',\n",
       "                   random_state=None, solver='warn', tol=0.0001, verbose=0,\n",
       "                   warm_start=False)"
      ]
     },
     "execution_count": 33,
     "metadata": {},
     "output_type": "execute_result"
    }
   ],
   "source": [
    "from sklearn.linear_model import LogisticRegression\n",
    "logreg = LogisticRegression()\n",
    "logreg.fit(X_train, y_train)"
   ]
  },
  {
   "cell_type": "code",
   "execution_count": 34,
   "metadata": {},
   "outputs": [
    {
     "data": {
      "text/plain": [
       "{'LAND_SQUARE_FEET': 0.0002665316959834184,\n",
       " 'GROSS_SQUARE_FEET': 0.0003770251501149552,\n",
       " 'SALE_SEASON_2': -0.25469564439228276,\n",
       " 'SALE_SEASON_3': -0.192539251306281,\n",
       " 'SALE_SEASON_4': -0.04647127908888864,\n",
       " 'ZIP_CODE_11203': -0.38446469406446604,\n",
       " 'ZIP_CODE_11204': 0.09857043260109435,\n",
       " 'ZIP_CODE_11205': -0.03289360630563412,\n",
       " 'ZIP_CODE_11206': -0.3305908152569257,\n",
       " 'ZIP_CODE_11207': -0.22338620169061305,\n",
       " 'ZIP_CODE_11208': -0.4733317680479047,\n",
       " 'ZIP_CODE_11209': 0.5197032023410855,\n",
       " 'ZIP_CODE_11210': -0.29027982309326683,\n",
       " 'ZIP_CODE_11211': -0.1441601178898754,\n",
       " 'ZIP_CODE_11212': -0.452515777403462,\n",
       " 'ZIP_CODE_11213': -0.334905371836628,\n",
       " 'ZIP_CODE_11214': 0.1651071267934774,\n",
       " 'ZIP_CODE_11215': 0.20879959675611262,\n",
       " 'ZIP_CODE_11216': 0.009165637170308783,\n",
       " 'ZIP_CODE_11217': 0.04079290439820198,\n",
       " 'ZIP_CODE_11218': -0.01460181752825704,\n",
       " 'ZIP_CODE_11219': 0.16492286767317624,\n",
       " 'ZIP_CODE_11220': -0.04634128878571651,\n",
       " 'ZIP_CODE_11221': 0.2620343074958611,\n",
       " 'ZIP_CODE_11222': -0.07234733362195189,\n",
       " 'ZIP_CODE_11223': -0.16380607978403236,\n",
       " 'ZIP_CODE_11224': -0.2916034605111148,\n",
       " 'ZIP_CODE_11225': -0.23222653144476632,\n",
       " 'ZIP_CODE_11226': -0.5811831277324435,\n",
       " 'ZIP_CODE_11227': 0.004711703950471082,\n",
       " 'ZIP_CODE_11228': 0.2125107816119807,\n",
       " 'ZIP_CODE_11229': 0.25931127493936995,\n",
       " 'ZIP_CODE_11230': 0.028889367269396286,\n",
       " 'ZIP_CODE_11231': -0.011944890182180335,\n",
       " 'ZIP_CODE_11232': -0.20407305691492322,\n",
       " 'ZIP_CODE_11233': -0.17928738454722457,\n",
       " 'ZIP_CODE_11234': 0.17914554759526907,\n",
       " 'ZIP_CODE_11235': 0.7170600297480867,\n",
       " 'ZIP_CODE_11236': -0.14969610788658178,\n",
       " 'ZIP_CODE_11237': -0.29745651332890566,\n",
       " 'ZIP_CODE_11238': -0.0067648321498953445,\n",
       " 'ZIP_CODE_11239': 0.005788208558310648,\n",
       " 'ZIP_CODE_11249': -0.018922436374057567,\n",
       " 'APARTMENT_NUMBER_1': -0.1867903415842125,\n",
       " 'APARTMENT_NUMBER_3': 0.14739113291214762,\n",
       " 'TAX_CLASS_AT_TIME_OF_SALE_2': -0.3923401941738824,\n",
       " 'TAX_CLASS_AT_TIME_OF_SALE_3': -0.0015886165476943555,\n",
       " 'TAX_CLASS_AT_TIME_OF_SALE_4': 0.12627180715921435,\n",
       " 'year_(1901.0, 1920.0]': -0.11724272175383002,\n",
       " 'year_(1921.0, 1940.0]': -0.07547678702267802,\n",
       " 'year_(1941.0, 1960.0]': -0.5091666519707796,\n",
       " 'year_(1961.0, 1980.0]': -0.09604626226530315,\n",
       " 'year_(1981.0, 2000.0]': -0.16476279781538608,\n",
       " 'year_(2001.0, 2016.0]': -0.08773807250723042}"
      ]
     },
     "execution_count": 34,
     "metadata": {},
     "output_type": "execute_result"
    }
   ],
   "source": [
    "dictionary = dict(zip(list(X_train.columns), list(logreg.coef_[0])))\n",
    "dictionary"
   ]
  },
  {
   "cell_type": "code",
   "execution_count": 35,
   "metadata": {},
   "outputs": [],
   "source": [
    "y_pred = logreg.predict(X_test)"
   ]
  },
  {
   "cell_type": "markdown",
   "metadata": {},
   "source": [
    "The simplest metric we can use to evaluate our model is accuracy.\n",
    "\n",
    "**Classification Accuracy:** Overall, how often is the classifier correct?"
   ]
  },
  {
   "cell_type": "code",
   "execution_count": 37,
   "metadata": {},
   "outputs": [
    {
     "name": "stdout",
     "output_type": "stream",
     "text": [
      "0.7974724562540505\n"
     ]
    }
   ],
   "source": [
    "# calculate accuracy\n",
    "from sklearn import metrics\n",
    "print(metrics.accuracy_score(y_test, y_pred))"
   ]
  },
  {
   "cell_type": "code",
   "execution_count": 39,
   "metadata": {},
   "outputs": [
    {
     "data": {
      "text/plain": [
       "0.7333117303953338"
      ]
     },
     "execution_count": 39,
     "metadata": {},
     "output_type": "execute_result"
    }
   ],
   "source": [
    "#check null accuracy - how often would it be right if it always guessed yes\n",
    "max(y_test.mean(), 1 - y_test.mean())"
   ]
  },
  {
   "cell_type": "markdown",
   "metadata": {},
   "source": [
    "### Ok, so that's not great"
   ]
  },
  {
   "cell_type": "code",
   "execution_count": 38,
   "metadata": {},
   "outputs": [
    {
     "name": "stdout",
     "output_type": "stream",
     "text": [
      "[[2172   91]\n",
      " [ 534  289]]\n"
     ]
    }
   ],
   "source": [
    "print(metrics.confusion_matrix(y_test, y_pred))"
   ]
  },
  {
   "cell_type": "code",
   "execution_count": 40,
   "metadata": {},
   "outputs": [],
   "source": [
    "from sklearn.metrics import confusion_matrix\n",
    "cm = confusion_matrix(y_test,y_pred)\n",
    "classes = ['Below Average', 'Above Average']"
   ]
  },
  {
   "cell_type": "code",
   "execution_count": 41,
   "metadata": {},
   "outputs": [],
   "source": [
    "def plot_confusion_matrix(cm, classes,\n",
    "                          normalize=False,\n",
    "                          title='Confusion matrix',\n",
    "                          cmap=plt.cm.Blues):\n",
    "    \"\"\"\n",
    "    This function prints and plots the confusion matrix.\n",
    "    Normalization can be applied by setting `normalize=True`.\n",
    "    \"\"\"\n",
    "    if normalize:\n",
    "        cm = cm.astype('float') / cm.sum(axis=1)[:, np.newaxis]\n",
    "        print(\"Normalized confusion matrix\")\n",
    "    else:\n",
    "        print('Confusion Matrix, without normalization')\n",
    "\n",
    "    print(cm)\n",
    "\n",
    "    plt.imshow(cm, interpolation='nearest', cmap=cmap)\n",
    "    plt.title(title)\n",
    "    plt.colorbar()\n",
    "    tick_marks = np.arange(len(classes))\n",
    "    plt.xticks(tick_marks, classes, rotation=45)\n",
    "    plt.yticks(tick_marks, classes)\n",
    "\n",
    "    fmt = '.2f' if normalize else 'd'\n",
    "    thresh = cm.max() / 2.\n",
    "    for i, j in itertools.product(range(cm.shape[0]), range(cm.shape[1])):\n",
    "        plt.text(j, i, format(cm[i, j], fmt),\n",
    "                 horizontalalignment=\"center\",\n",
    "                 color=\"white\" if cm[i, j] > thresh else \"black\")\n",
    "\n",
    "    plt.tight_layout()\n",
    "    plt.ylabel('True label')\n",
    "    plt.xlabel('Predicted label')"
   ]
  },
  {
   "cell_type": "code",
   "execution_count": 54,
   "metadata": {},
   "outputs": [
    {
     "name": "stdout",
     "output_type": "stream",
     "text": [
      "Confusion Matrix, without normalization\n",
      "[[2172   91]\n",
      " [ 534  289]]\n"
     ]
    },
    {
     "data": {
      "image/png": "[encoded data removed]",
      "text/plain": [
       "<Figure size 432x288 with 2 Axes>"
      ]
     },
     "metadata": {
      "needs_background": "light"
     },
     "output_type": "display_data"
    }
   ],
   "source": [
    "# positive = above average\n",
    "# negative = below average\n",
    "plot_confusion_matrix(cm, classes)"
   ]
  },
  {
   "cell_type": "markdown",
   "metadata": {},
   "source": [
    "## Precision\n",
    "When a positive value is predicted, how often is the prediction correct?\n",
    "\n",
    "- How \"precise\" is the classifier when predicting positive instances?"
   ]
  },
  {
   "cell_type": "code",
   "execution_count": 48,
   "metadata": {},
   "outputs": [
    {
     "name": "stdout",
     "output_type": "stream",
     "text": [
      "0.7605263157894737\n"
     ]
    }
   ],
   "source": [
    "# check the precision\n",
    "print(metrics.precision_score(y_test, y_pred))"
   ]
  },
  {
   "cell_type": "markdown",
   "metadata": {},
   "source": [
    "## Recall (Sensitivity)\n",
    "\n",
    "What proportion of actual positives was identified correctly?"
   ]
  },
  {
   "cell_type": "code",
   "execution_count": 49,
   "metadata": {},
   "outputs": [
    {
     "name": "stdout",
     "output_type": "stream",
     "text": [
      "0.3511543134872418\n"
     ]
    }
   ],
   "source": [
    "print(metrics.recall_score(y_test, y_pred))"
   ]
  },
  {
   "cell_type": "markdown",
   "metadata": {},
   "source": [
    "## F1 score \n",
    "\n",
    "The F1 score is the harmonic average of the precision and recall, where an F1 score reaches its best value at 1 (perfect precision and recall) and worst at 0."
   ]
  },
  {
   "cell_type": "code",
   "execution_count": 51,
   "metadata": {},
   "outputs": [
    {
     "data": {
      "text/plain": [
       "0.48046550290939327"
      ]
     },
     "execution_count": 51,
     "metadata": {},
     "output_type": "execute_result"
    }
   ],
   "source": [
    "2*(metrics.precision_score(y_test, y_pred)*metrics.recall_score(y_test, y_pred))/(metrics.precision_score(y_test, y_pred)+metrics.recall_score(y_test, y_pred))"
   ]
  },
  {
   "cell_type": "markdown",
   "metadata": {},
   "source": [
    "# I need to 'SMOTE' my classes (too uneven)"
   ]
  },
  {
   "cell_type": "code",
   "execution_count": 63,
   "metadata": {},
   "outputs": [
    {
     "name": "stderr",
     "output_type": "stream",
     "text": [
      "//anaconda3/lib/python3.7/site-packages/sklearn/svm/base.py:929: ConvergenceWarning: Liblinear failed to converge, increase the number of iterations.\n",
      "  \"the number of iterations.\", ConvergenceWarning)\n"
     ]
    }
   ],
   "source": [
    "from imblearn.over_sampling import SMOTE\n",
    "\n",
    "smote = SMOTE(ratio='minority')\n",
    "X_sm, y_sm = smote.fit_resample(X, y)\n",
    "clf_smote = LinearSVC().fit(X_sm, y_sm)\n",
    "# plot_2d_space(X_sm, y_sm, 'SMOTE over-sampling')"
   ]
  },
  {
   "cell_type": "code",
   "execution_count": 64,
   "metadata": {},
   "outputs": [],
   "source": [
    "X_train, X_test, y_train, y_test = train_test_split(X_sm, y_sm, test_size=0.20, random_state=1)"
   ]
  },
  {
   "cell_type": "code",
   "execution_count": 66,
   "metadata": {},
   "outputs": [
    {
     "name": "stderr",
     "output_type": "stream",
     "text": [
      "//anaconda3/lib/python3.7/site-packages/sklearn/linear_model/logistic.py:432: FutureWarning: Default solver will be changed to 'lbfgs' in 0.22. Specify a solver to silence this warning.\n",
      "  FutureWarning)\n"
     ]
    }
   ],
   "source": [
    "logreg = LogisticRegression()\n",
    "logreg.fit(X_train, y_train)\n",
    "y_pred = logreg.predict(X_test)"
   ]
  },
  {
   "cell_type": "code",
   "execution_count": 67,
   "metadata": {},
   "outputs": [
    {
     "name": "stdout",
     "output_type": "stream",
     "text": [
      "0.7778772951186744\n"
     ]
    }
   ],
   "source": [
    "# calculate accuracy\n",
    "from sklearn import metrics\n",
    "print(metrics.accuracy_score(y_test, y_pred))"
   ]
  },
  {
   "cell_type": "code",
   "execution_count": 68,
   "metadata": {},
   "outputs": [
    {
     "data": {
      "text/plain": [
       "0.5098522167487685"
      ]
     },
     "execution_count": 68,
     "metadata": {},
     "output_type": "execute_result"
    }
   ],
   "source": [
    "#check null accuracy - how often would it be right if it always guessed yes\n",
    "max(y_test.mean(), 1 - y_test.mean())"
   ]
  },
  {
   "cell_type": "code",
   "execution_count": 70,
   "metadata": {},
   "outputs": [
    {
     "name": "stdout",
     "output_type": "stream",
     "text": [
      "Confusion Matrix, without normalization\n",
      "[[1601  676]\n",
      " [ 316 1873]]\n"
     ]
    },
    {
     "data": {
      "image/png": "[encoded data removed]",
      "text/plain": [
       "<Figure size 432x288 with 2 Axes>"
      ]
     },
     "metadata": {
      "needs_background": "light"
     },
     "output_type": "display_data"
    }
   ],
   "source": [
    "# print(metrics.confusion_matrix(y_test, y_pred))\n",
    "cm = confusion_matrix(y_test,y_pred)\n",
    "classes = ['Below Average', 'Above Average']\n",
    "plot_confusion_matrix(cm, classes)"
   ]
  },
  {
   "cell_type": "code",
   "execution_count": 72,
   "metadata": {},
   "outputs": [
    {
     "name": "stdout",
     "output_type": "stream",
     "text": [
      "F1 Score:\n"
     ]
    },
    {
     "data": {
      "text/plain": [
       "0.7906289573659772"
      ]
     },
     "execution_count": 72,
     "metadata": {},
     "output_type": "execute_result"
    }
   ],
   "source": [
    "print('F1 Score:')\n",
    "2*(metrics.precision_score(y_test, y_pred)*metrics.recall_score(y_test, y_pred))/(metrics.precision_score(y_test, y_pred)+metrics.recall_score(y_test, y_pred))"
   ]
  },
  {
   "cell_type": "markdown",
   "metadata": {},
   "source": [
    "## Ok, KNN now?"
   ]
  },
  {
   "cell_type": "code",
   "execution_count": 74,
   "metadata": {},
   "outputs": [],
   "source": [
    "knn = KNeighborsClassifier(n_neighbors=1000)"
   ]
  },
  {
   "cell_type": "code",
   "execution_count": 75,
   "metadata": {},
   "outputs": [
    {
     "data": {
      "text/plain": [
       "KNeighborsClassifier(algorithm='auto', leaf_size=30, metric='minkowski',\n",
       "                     metric_params=None, n_jobs=None, n_neighbors=1000, p=2,\n",
       "                     weights='uniform')"
      ]
     },
     "execution_count": 75,
     "metadata": {},
     "output_type": "execute_result"
    }
   ],
   "source": [
    "knn.fit(X_train, y_train)"
   ]
  },
  {
   "cell_type": "code",
   "execution_count": 76,
   "metadata": {},
   "outputs": [],
   "source": [
    "y_pred = knn.predict(X_test)"
   ]
  },
  {
   "cell_type": "code",
   "execution_count": null,
   "metadata": {},
   "outputs": [],
   "source": []
  }
 ],
 "metadata": {
  "kernelspec": {
   "display_name": "Python 3",
   "language": "python",
   "name": "python3"
  },
  "language_info": {
   "codemirror_mode": {
    "name": "ipython",
    "version": 3
   },
   "file_extension": ".py",
   "mimetype": "text/x-python",
   "name": "python",
   "nbconvert_exporter": "python",
   "pygments_lexer": "ipython3",
   "version": "3.7.3"
  }
 },
 "nbformat": 4,
 "nbformat_minor": 2
}
